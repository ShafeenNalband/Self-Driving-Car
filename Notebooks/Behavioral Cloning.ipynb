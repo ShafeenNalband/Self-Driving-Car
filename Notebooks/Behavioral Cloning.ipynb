{
 "cells": [
  {
   "cell_type": "code",
   "execution_count": null,
   "metadata": {
    "executionInfo": {
     "elapsed": 3,
     "status": "ok",
     "timestamp": 1645983563102,
     "user": {
      "displayName": "Boktiar Ahmed Bappy",
      "photoUrl": "https://lh3.googleusercontent.com/a-/AOh14Gih6IcON3wMQpvveeS9_REpH6y1XnnZEhx-zhFX=s64",
      "userId": "10381972055342951581"
     },
     "user_tz": -360
    },
    "id": "OuHmnZmT8Qek"
   },
   "outputs": [],
   "source": [
    "import os\n",
    "import numpy as np\n",
    "import matplotlib.pyplot as plt\n",
    "import matplotlib.image as mpimg\n",
    "from tensorflow import keras\n",
    "import tensorflow as tf\n",
    "from keras.models import Sequential\n",
    "from keras.layers import Convolution2D, MaxPooling2D, Dropout, Flatten, Dense, Conv2D\n",
    "from sklearn.utils import shuffle\n",
    "from sklearn.model_selection import train_test_split\n",
    "from imgaug import augmenters as iaa\n",
    "import cv2\n",
    "import pandas as pd\n",
    "import ntpath\n",
    "import random"
   ]
  },
  {
   "cell_type": "code",
   "execution_count": null,
   "metadata": {
    "colab": {
     "base_uri": "https://localhost:8080/"
    },
    "executionInfo": {
     "elapsed": 10092,
     "status": "ok",
     "timestamp": 1645978512531,
     "user": {
      "displayName": "Boktiar Ahmed Bappy",
      "photoUrl": "https://lh3.googleusercontent.com/a-/AOh14Gih6IcON3wMQpvveeS9_REpH6y1XnnZEhx-zhFX=s64",
      "userId": "10381972055342951581"
     },
     "user_tz": -360
    },
    "id": "LbIf3TJS9lLq",
    "outputId": "77cbe05b-9013-428a-9501-22a1d89553f3"
   },
   "outputs": [],
   "source": [
    "#downloading data\n",
    "!git clone https://github.com/rslim087a/track"
   ]
  },
  {
   "cell_type": "code",
   "execution_count": null,
   "metadata": {
    "colab": {
     "base_uri": "https://localhost:8080/",
     "height": 305
    },
    "executionInfo": {
     "elapsed": 14,
     "status": "ok",
     "timestamp": 1645978561360,
     "user": {
      "displayName": "Boktiar Ahmed Bappy",
      "photoUrl": "https://lh3.googleusercontent.com/a-/AOh14Gih6IcON3wMQpvveeS9_REpH6y1XnnZEhx-zhFX=s64",
      "userId": "10381972055342951581"
     },
     "user_tz": -360
    },
    "id": "gCTNbw8d9rqN",
    "outputId": "80dd7a9b-c403-4af9-eb77-f8dee044e707"
   },
   "outputs": [],
   "source": [
    "datadir = 'track'\n",
    "columns = ['center', 'left', 'right', 'steering', 'throttle', 'reverse', 'speed']\n",
    "data = pd.read_csv(os.path.join(datadir, 'driving_log.csv'), names = columns)\n",
    "pd.set_option('display.max_colwidth', -1)\n",
    "data.head()"
   ]
  },
  {
   "cell_type": "code",
   "execution_count": null,
   "metadata": {
    "colab": {
     "base_uri": "https://localhost:8080/",
     "height": 270
    },
    "executionInfo": {
     "elapsed": 495,
     "status": "ok",
     "timestamp": 1645978929677,
     "user": {
      "displayName": "Boktiar Ahmed Bappy",
      "photoUrl": "https://lh3.googleusercontent.com/a-/AOh14Gih6IcON3wMQpvveeS9_REpH6y1XnnZEhx-zhFX=s64",
      "userId": "10381972055342951581"
     },
     "user_tz": -360
    },
    "id": "p1UXuYWW96LD",
    "outputId": "2ec4241e-19f2-4ea1-8749-0b3e42c18258"
   },
   "outputs": [],
   "source": [
    "def path_leaf(path):\n",
    "  head, tail = ntpath.split(path)\n",
    "  return tail\n",
    "data['center'] = data['center'].apply(path_leaf)\n",
    "data['left'] = data['left'].apply(path_leaf)\n",
    "data['right'] = data['right'].apply(path_leaf)\n",
    "data.head()"
   ]
  },
  {
   "cell_type": "code",
   "execution_count": null,
   "metadata": {
    "colab": {
     "base_uri": "https://localhost:8080/",
     "height": 282
    },
    "executionInfo": {
     "elapsed": 1160,
     "status": "ok",
     "timestamp": 1645979252866,
     "user": {
      "displayName": "Boktiar Ahmed Bappy",
      "photoUrl": "https://lh3.googleusercontent.com/a-/AOh14Gih6IcON3wMQpvveeS9_REpH6y1XnnZEhx-zhFX=s64",
      "userId": "10381972055342951581"
     },
     "user_tz": -360
    },
    "id": "dX9XSbXE_ULn",
    "outputId": "d83ee1a9-eddf-4510-c5f7-13dce2d850d8"
   },
   "outputs": [],
   "source": [
    "num_bins = 25\n",
    "samples_per_bin = 400\n",
    "hist, bins = np.histogram(data['steering'], num_bins)\n",
    "center = (bins[:-1]+ bins[1:]) * 0.5\n",
    "plt.bar(center, hist, width=0.05)\n",
    "plt.plot((np.min(data['steering']), np.max(data['steering'])), (samples_per_bin, samples_per_bin))"
   ]
  },
  {
   "cell_type": "code",
   "execution_count": null,
   "metadata": {
    "colab": {
     "base_uri": "https://localhost:8080/"
    },
    "executionInfo": {
     "elapsed": 7,
     "status": "ok",
     "timestamp": 1645979313921,
     "user": {
      "displayName": "Boktiar Ahmed Bappy",
      "photoUrl": "https://lh3.googleusercontent.com/a-/AOh14Gih6IcON3wMQpvveeS9_REpH6y1XnnZEhx-zhFX=s64",
      "userId": "10381972055342951581"
     },
     "user_tz": -360
    },
    "id": "8cQ6ieRR_6rk",
    "outputId": "343cf3d9-a37e-42cd-c3ea-07a5bd6906a1"
   },
   "outputs": [],
   "source": [
    "print('total data:', len(data))\n",
    "print(data.shape)"
   ]
  },
  {
   "cell_type": "code",
   "execution_count": null,
   "metadata": {
    "colab": {
     "base_uri": "https://localhost:8080/"
    },
    "executionInfo": {
     "elapsed": 2257,
     "status": "ok",
     "timestamp": 1645980869067,
     "user": {
      "displayName": "Boktiar Ahmed Bappy",
      "photoUrl": "https://lh3.googleusercontent.com/a-/AOh14Gih6IcON3wMQpvveeS9_REpH6y1XnnZEhx-zhFX=s64",
      "userId": "10381972055342951581"
     },
     "user_tz": -360
    },
    "id": "HlkyiqslAniM",
    "outputId": "79b26ae5-9818-4268-f262-1cf16466d83d"
   },
   "outputs": [],
   "source": [
    "remove_list = []\n",
    "for j in range(num_bins):\n",
    "  list_ = []\n",
    "  for i in range(len(data['steering'])):\n",
    "    if data['steering'][i] >= bins[j] and data['steering'][i] <= bins[j+1]:\n",
    "      list_.append(i)\n",
    "  list_ = shuffle(list_)\n",
    "  list_ = list_[samples_per_bin:]\n",
    "  remove_list.extend(list_)\n",
    "\n",
    "print('removed:', len(remove_list))\n",
    "data.drop(data.index[remove_list], inplace=True)\n",
    "print('remaining:', len(data))"
   ]
  },
  {
   "cell_type": "code",
   "execution_count": null,
   "metadata": {
    "colab": {
     "base_uri": "https://localhost:8080/",
     "height": 282
    },
    "executionInfo": {
     "elapsed": 1371,
     "status": "ok",
     "timestamp": 1645980885794,
     "user": {
      "displayName": "Boktiar Ahmed Bappy",
      "photoUrl": "https://lh3.googleusercontent.com/a-/AOh14Gih6IcON3wMQpvveeS9_REpH6y1XnnZEhx-zhFX=s64",
      "userId": "10381972055342951581"
     },
     "user_tz": -360
    },
    "id": "o7lXDGzbAq8c",
    "outputId": "6197f1fd-e83f-44d4-feeb-fb33101610be"
   },
   "outputs": [],
   "source": [
    "hist, _ = np.histogram(data['steering'], (num_bins))\n",
    "plt.bar(center, hist, width=0.05)\n",
    "plt.plot((np.min(data['steering']), np.max(data['steering'])), (samples_per_bin, samples_per_bin))"
   ]
  },
  {
   "cell_type": "code",
   "execution_count": null,
   "metadata": {
    "executionInfo": {
     "elapsed": 599,
     "status": "ok",
     "timestamp": 1645981190171,
     "user": {
      "displayName": "Boktiar Ahmed Bappy",
      "photoUrl": "https://lh3.googleusercontent.com/a-/AOh14Gih6IcON3wMQpvveeS9_REpH6y1XnnZEhx-zhFX=s64",
      "userId": "10381972055342951581"
     },
     "user_tz": -360
    },
    "id": "12RqpRlyGxhX"
   },
   "outputs": [],
   "source": [
    "def load_img_steering(datadir, df):\n",
    "  image_path = []\n",
    "  steering = []\n",
    "  for i in range(len(data)):\n",
    "    indexed_data = data.iloc[i]\n",
    "    center, left, right = indexed_data[0], indexed_data[1], indexed_data[2]\n",
    "    image_path.append(os.path.join(datadir, center.strip()))\n",
    "    steering.append(float(indexed_data[3]))\n",
    "    # left image append\n",
    "    image_path.append(os.path.join(datadir,left.strip()))\n",
    "    steering.append(float(indexed_data[3])+0.15)\n",
    "    # right image append\n",
    "    image_path.append(os.path.join(datadir,right.strip()))\n",
    "    steering.append(float(indexed_data[3])-0.15)\n",
    "  image_paths = np.asarray(image_path)\n",
    "  steerings = np.asarray(steering)\n",
    "  return image_paths, steerings"
   ]
  },
  {
   "cell_type": "code",
   "execution_count": null,
   "metadata": {
    "colab": {
     "base_uri": "https://localhost:8080/"
    },
    "executionInfo": {
     "elapsed": 1662,
     "status": "ok",
     "timestamp": 1645981214020,
     "user": {
      "displayName": "Boktiar Ahmed Bappy",
      "photoUrl": "https://lh3.googleusercontent.com/a-/AOh14Gih6IcON3wMQpvveeS9_REpH6y1XnnZEhx-zhFX=s64",
      "userId": "10381972055342951581"
     },
     "user_tz": -360
    },
    "id": "JVQ8-07EH8Bq",
    "outputId": "4ef3f49f-ff20-4ca4-a8bf-a9c24881a4cd"
   },
   "outputs": [],
   "source": [
    "image_paths, steerings = load_img_steering(datadir + '/IMG', data)\n",
    "X_train, X_valid, y_train, y_valid = train_test_split(image_paths, steerings, test_size=0.2, random_state=6)\n",
    "print('Training Samples: {}\\nValid Samples: {}'.format(len(X_train), len(X_valid)))"
   ]
  },
  {
   "cell_type": "code",
   "execution_count": null,
   "metadata": {
    "colab": {
     "base_uri": "https://localhost:8080/",
     "height": 35
    },
    "executionInfo": {
     "elapsed": 564,
     "status": "ok",
     "timestamp": 1645981636827,
     "user": {
      "displayName": "Boktiar Ahmed Bappy",
      "photoUrl": "https://lh3.googleusercontent.com/a-/AOh14Gih6IcON3wMQpvveeS9_REpH6y1XnnZEhx-zhFX=s64",
      "userId": "10381972055342951581"
     },
     "user_tz": -360
    },
    "id": "xwIhzVvrIBdk",
    "outputId": "7f1c3f03-627c-4891-edf7-3e03ec7809bf"
   },
   "outputs": [],
   "source": [
    "image_paths[0]"
   ]
  },
  {
   "cell_type": "code",
   "execution_count": null,
   "metadata": {
    "colab": {
     "base_uri": "https://localhost:8080/"
    },
    "executionInfo": {
     "elapsed": 7,
     "status": "ok",
     "timestamp": 1645981639800,
     "user": {
      "displayName": "Boktiar Ahmed Bappy",
      "photoUrl": "https://lh3.googleusercontent.com/a-/AOh14Gih6IcON3wMQpvveeS9_REpH6y1XnnZEhx-zhFX=s64",
      "userId": "10381972055342951581"
     },
     "user_tz": -360
    },
    "id": "aENbHNpdIEKJ",
    "outputId": "c034f236-6cf7-4467-d4f0-1af3f8cbd1d8"
   },
   "outputs": [],
   "source": [
    "steerings[0]"
   ]
  },
  {
   "cell_type": "code",
   "execution_count": null,
   "metadata": {
    "colab": {
     "base_uri": "https://localhost:8080/",
     "height": 298
    },
    "executionInfo": {
     "elapsed": 1320,
     "status": "ok",
     "timestamp": 1645981364873,
     "user": {
      "displayName": "Boktiar Ahmed Bappy",
      "photoUrl": "https://lh3.googleusercontent.com/a-/AOh14Gih6IcON3wMQpvveeS9_REpH6y1XnnZEhx-zhFX=s64",
      "userId": "10381972055342951581"
     },
     "user_tz": -360
    },
    "id": "jJNpWClJIIAj",
    "outputId": "6e87702f-c5ae-491a-dd5a-ef553a653bfb"
   },
   "outputs": [],
   "source": [
    "fig, axes = plt.subplots(1, 2, figsize=(12, 4))\n",
    "axes[0].hist(y_train, bins=num_bins, width=0.05, color='blue')\n",
    "axes[0].set_title('Training set')\n",
    "axes[1].hist(y_valid, bins=num_bins, width=0.05, color='red')\n",
    "axes[1].set_title('Validation set')"
   ]
  },
  {
   "cell_type": "code",
   "execution_count": null,
   "metadata": {
    "colab": {
     "base_uri": "https://localhost:8080/",
     "height": 307
    },
    "executionInfo": {
     "elapsed": 2386,
     "status": "ok",
     "timestamp": 1645984748753,
     "user": {
      "displayName": "Boktiar Ahmed Bappy",
      "photoUrl": "https://lh3.googleusercontent.com/a-/AOh14Gih6IcON3wMQpvveeS9_REpH6y1XnnZEhx-zhFX=s64",
      "userId": "10381972055342951581"
     },
     "user_tz": -360
    },
    "id": "IWYJoiLoVdqU",
    "outputId": "628009c4-4272-4b23-d817-8eb9a0a2e352"
   },
   "outputs": [],
   "source": [
    "def zoom(image):\n",
    "  zoom = iaa.Affine(scale=(1, 1.3))\n",
    "  image = zoom.augment_image(image)\n",
    "  return image\n",
    "image = image_paths[random.randint(0, 1000)]\n",
    "original_image = mpimg.imread(image)\n",
    "zoomed_image = zoom(original_image)\n",
    "\n",
    "fig, axs = plt.subplots(1, 2, figsize=(15, 10))\n",
    "fig.tight_layout()\n",
    "\n",
    "axs[0].imshow(original_image)\n",
    "axs[0].set_title('Original Image')\n",
    "\n",
    "axs[1].imshow(zoomed_image)\n",
    "axs[1].set_title('Zoomed Image')\n"
   ]
  },
  {
   "cell_type": "code",
   "execution_count": null,
   "metadata": {
    "colab": {
     "base_uri": "https://localhost:8080/",
     "height": 307
    },
    "executionInfo": {
     "elapsed": 3365,
     "status": "ok",
     "timestamp": 1645984789153,
     "user": {
      "displayName": "Boktiar Ahmed Bappy",
      "photoUrl": "https://lh3.googleusercontent.com/a-/AOh14Gih6IcON3wMQpvveeS9_REpH6y1XnnZEhx-zhFX=s64",
      "userId": "10381972055342951581"
     },
     "user_tz": -360
    },
    "id": "aGtJPv9VVpoZ",
    "outputId": "6804784e-a3e6-49f3-af9c-661b08aea50e"
   },
   "outputs": [],
   "source": [
    "def pan(image):\n",
    "  pan = iaa.Affine(translate_percent= {\"x\" : (-0.1, 0.1), \"y\": (-0.1, 0.1)})\n",
    "  image = pan.augment_image(image)\n",
    "  return image\n",
    "image = image_paths[random.randint(0, 1000)]\n",
    "original_image = mpimg.imread(image)\n",
    "panned_image = pan(original_image)\n",
    "\n",
    "fig, axs = plt.subplots(1, 2, figsize=(15, 10))\n",
    "fig.tight_layout()\n",
    "\n",
    "axs[0].imshow(original_image)\n",
    "axs[0].set_title('Original Image')\n",
    "\n",
    "axs[1].imshow(panned_image)\n",
    "axs[1].set_title('Panned Image')"
   ]
  },
  {
   "cell_type": "code",
   "execution_count": null,
   "metadata": {
    "colab": {
     "base_uri": "https://localhost:8080/",
     "height": 307
    },
    "executionInfo": {
     "elapsed": 3110,
     "status": "ok",
     "timestamp": 1645984819944,
     "user": {
      "displayName": "Boktiar Ahmed Bappy",
      "photoUrl": "https://lh3.googleusercontent.com/a-/AOh14Gih6IcON3wMQpvveeS9_REpH6y1XnnZEhx-zhFX=s64",
      "userId": "10381972055342951581"
     },
     "user_tz": -360
    },
    "id": "DshxlaVPVxV5",
    "outputId": "b680639a-4a4b-4fe8-92c4-217d20d262d6"
   },
   "outputs": [],
   "source": [
    "def img_random_brightness(image):\n",
    "    brightness = iaa.Multiply((0.2, 1.2))\n",
    "    image = brightness.augment_image(image)\n",
    "    return image\n",
    "image = image_paths[random.randint(0, 1000)]\n",
    "original_image = mpimg.imread(image)\n",
    "brightness_altered_image = img_random_brightness(original_image)\n",
    "\n",
    "fig, axs = plt.subplots(1, 2, figsize=(15, 10))\n",
    "fig.tight_layout()\n",
    "\n",
    "axs[0].imshow(original_image)\n",
    "axs[0].set_title('Original Image')\n",
    "\n",
    "axs[1].imshow(brightness_altered_image)\n",
    "axs[1].set_title('Brightness altered image ')"
   ]
  },
  {
   "cell_type": "code",
   "execution_count": null,
   "metadata": {
    "colab": {
     "base_uri": "https://localhost:8080/",
     "height": 307
    },
    "executionInfo": {
     "elapsed": 3083,
     "status": "ok",
     "timestamp": 1645984851124,
     "user": {
      "displayName": "Boktiar Ahmed Bappy",
      "photoUrl": "https://lh3.googleusercontent.com/a-/AOh14Gih6IcON3wMQpvveeS9_REpH6y1XnnZEhx-zhFX=s64",
      "userId": "10381972055342951581"
     },
     "user_tz": -360
    },
    "id": "iGoBPT4zV47x",
    "outputId": "1ff5439f-1e86-4a65-d6a5-8c7183f63508"
   },
   "outputs": [],
   "source": [
    "def img_random_flip(image, steering_angle):\n",
    "    image = cv2.flip(image,1)\n",
    "    steering_angle = -steering_angle\n",
    "    return image, steering_angle\n",
    "random_index = random.randint(0, 1000)\n",
    "image = image_paths[random_index]\n",
    "steering_angle = steerings[random_index]\n",
    "\n",
    "\n",
    "original_image = mpimg.imread(image)\n",
    "flipped_image, flipped_steering_angle = img_random_flip(original_image, steering_angle)\n",
    "\n",
    "fig, axs = plt.subplots(1, 2, figsize=(15, 10))\n",
    "fig.tight_layout()\n",
    "\n",
    "axs[0].imshow(original_image)\n",
    "axs[0].set_title('Original Image - ' + 'Steering Angle:' + str(steering_angle))\n",
    "\n",
    "axs[1].imshow(flipped_image)\n",
    "axs[1].set_title('Flipped Image - ' + 'Steering Angle:' + str(flipped_steering_angle))"
   ]
  },
  {
   "cell_type": "code",
   "execution_count": null,
   "metadata": {
    "executionInfo": {
     "elapsed": 452,
     "status": "ok",
     "timestamp": 1645984882650,
     "user": {
      "displayName": "Boktiar Ahmed Bappy",
      "photoUrl": "https://lh3.googleusercontent.com/a-/AOh14Gih6IcON3wMQpvveeS9_REpH6y1XnnZEhx-zhFX=s64",
      "userId": "10381972055342951581"
     },
     "user_tz": -360
    },
    "id": "a54rM78rWBRV"
   },
   "outputs": [],
   "source": [
    "def random_augment(image, steering_angle):\n",
    "    image = mpimg.imread(image)\n",
    "    if np.random.rand() < 0.5:\n",
    "      image = pan(image)\n",
    "    if np.random.rand() < 0.5:\n",
    "      image = zoom(image)\n",
    "    if np.random.rand() < 0.5:\n",
    "      image = img_random_brightness(image)\n",
    "    if np.random.rand() < 0.5:\n",
    "      image, steering_angle = img_random_flip(image, steering_angle)\n",
    "\n",
    "    return image, steering_angle"
   ]
  },
  {
   "cell_type": "code",
   "execution_count": null,
   "metadata": {
    "colab": {
     "base_uri": "https://localhost:8080/",
     "height": 1000,
     "output_embedded_package_id": "19QIIMwRHnzh-lQ6GjTius044eCt-x8hT"
    },
    "executionInfo": {
     "elapsed": 20607,
     "status": "ok",
     "timestamp": 1645984918103,
     "user": {
      "displayName": "Boktiar Ahmed Bappy",
      "photoUrl": "https://lh3.googleusercontent.com/a-/AOh14Gih6IcON3wMQpvveeS9_REpH6y1XnnZEhx-zhFX=s64",
      "userId": "10381972055342951581"
     },
     "user_tz": -360
    },
    "id": "hPC4HcVIWCVU",
    "outputId": "5b12d657-6614-40fe-eae3-4ffc3ea8f6b1"
   },
   "outputs": [],
   "source": [
    "ncol = 2\n",
    "nrow = 10\n",
    "\n",
    "fig, axs = plt.subplots(nrow, ncol, figsize=(15, 50))\n",
    "fig.tight_layout()\n",
    "\n",
    "for i in range(10):\n",
    "  randnum = random.randint(0, len(image_paths) - 1)\n",
    "  random_image = image_paths[randnum]\n",
    "  random_steering = steerings[randnum]\n",
    "\n",
    "  original_image = mpimg.imread(random_image)\n",
    "  augmented_image, steering = random_augment(random_image, random_steering)\n",
    "\n",
    "  axs[i][0].imshow(original_image)\n",
    "  axs[i][0].set_title(\"Original Image\")\n",
    "\n",
    "  axs[i][1].imshow(augmented_image)\n",
    "  axs[i][1].set_title(\"Augmented Image\")"
   ]
  },
  {
   "cell_type": "code",
   "execution_count": null,
   "metadata": {
    "executionInfo": {
     "elapsed": 520,
     "status": "ok",
     "timestamp": 1645981974108,
     "user": {
      "displayName": "Boktiar Ahmed Bappy",
      "photoUrl": "https://lh3.googleusercontent.com/a-/AOh14Gih6IcON3wMQpvveeS9_REpH6y1XnnZEhx-zhFX=s64",
      "userId": "10381972055342951581"
     },
     "user_tz": -360
    },
    "id": "MBkXtjgxImYF"
   },
   "outputs": [],
   "source": [
    "def img_preprocess(img):\n",
    "    img = img[60:135,:,:]\n",
    "    img = cv2.cvtColor(img, cv2.COLOR_RGB2YUV)\n",
    "    img = cv2.GaussianBlur(img,  (3, 3), 0)\n",
    "    img = cv2.resize(img, (200, 66))\n",
    "    img = img/255\n",
    "    return img"
   ]
  },
  {
   "cell_type": "code",
   "execution_count": null,
   "metadata": {
    "colab": {
     "base_uri": "https://localhost:8080/",
     "height": 307
    },
    "executionInfo": {
     "elapsed": 3043,
     "status": "ok",
     "timestamp": 1645982151601,
     "user": {
      "displayName": "Boktiar Ahmed Bappy",
      "photoUrl": "https://lh3.googleusercontent.com/a-/AOh14Gih6IcON3wMQpvveeS9_REpH6y1XnnZEhx-zhFX=s64",
      "userId": "10381972055342951581"
     },
     "user_tz": -360
    },
    "id": "n15369UbK7f1",
    "outputId": "125cac06-decc-4be2-ddd5-f751a18b086d"
   },
   "outputs": [],
   "source": [
    "image = image_paths[100]\n",
    "original_image = mpimg.imread(image)\n",
    "preprocessed_image = img_preprocess(original_image)\n",
    "\n",
    "fig, axs = plt.subplots(1, 2, figsize=(15, 10))\n",
    "fig.tight_layout()\n",
    "axs[0].imshow(original_image)\n",
    "axs[0].set_title('Original Image')\n",
    "axs[1].imshow(preprocessed_image)\n",
    "axs[1].set_title('Preprocessed Image')"
   ]
  },
  {
   "cell_type": "code",
   "execution_count": null,
   "metadata": {
    "executionInfo": {
     "elapsed": 665,
     "status": "ok",
     "timestamp": 1645985103918,
     "user": {
      "displayName": "Boktiar Ahmed Bappy",
      "photoUrl": "https://lh3.googleusercontent.com/a-/AOh14Gih6IcON3wMQpvveeS9_REpH6y1XnnZEhx-zhFX=s64",
      "userId": "10381972055342951581"
     },
     "user_tz": -360
    },
    "id": "GqkZEs5oWU6T"
   },
   "outputs": [],
   "source": [
    "def batch_generator(image_paths, steering_ang, batch_size, istraining):\n",
    "\n",
    "  while True:\n",
    "    batch_img = []\n",
    "    batch_steering = []\n",
    "\n",
    "    for i in range(batch_size):\n",
    "      random_index = random.randint(0, len(image_paths) - 1)\n",
    "\n",
    "      if istraining:\n",
    "        im, steering = random_augment(image_paths[random_index], steering_ang[random_index])\n",
    "\n",
    "      else:\n",
    "        im = mpimg.imread(image_paths[random_index])\n",
    "        steering = steering_ang[random_index]\n",
    "\n",
    "      im = img_preprocess(im)\n",
    "      batch_img.append(im)\n",
    "      batch_steering.append(steering)\n",
    "    yield (np.asarray(batch_img), np.asarray(batch_steering))\n",
    "x_train_gen, y_train_gen = next(batch_generator(X_train, y_train, 1, 1))\n",
    "x_valid_gen, y_valid_gen = next(batch_generator(X_valid, y_valid, 1, 0))"
   ]
  },
  {
   "cell_type": "code",
   "execution_count": null,
   "metadata": {
    "colab": {
     "base_uri": "https://localhost:8080/",
     "height": 231
    },
    "executionInfo": {
     "elapsed": 2358,
     "status": "ok",
     "timestamp": 1645985121048,
     "user": {
      "displayName": "Boktiar Ahmed Bappy",
      "photoUrl": "https://lh3.googleusercontent.com/a-/AOh14Gih6IcON3wMQpvveeS9_REpH6y1XnnZEhx-zhFX=s64",
      "userId": "10381972055342951581"
     },
     "user_tz": -360
    },
    "id": "TWIK6-p_W6-6",
    "outputId": "c0acccfc-84e8-4202-e05a-3404afe0f4d8"
   },
   "outputs": [],
   "source": [
    "fig, axs = plt.subplots(1, 2, figsize=(15, 10))\n",
    "fig.tight_layout()\n",
    "\n",
    "axs[0].imshow(x_train_gen[0])\n",
    "axs[0].set_title('Training Image')\n",
    "\n",
    "axs[1].imshow(x_valid_gen[0])\n",
    "axs[1].set_title('Validation Image')"
   ]
  },
  {
   "cell_type": "code",
   "execution_count": null,
   "metadata": {
    "colab": {
     "base_uri": "https://localhost:8080/"
    },
    "executionInfo": {
     "elapsed": 830,
     "status": "ok",
     "timestamp": 1645983921947,
     "user": {
      "displayName": "Boktiar Ahmed Bappy",
      "photoUrl": "https://lh3.googleusercontent.com/a-/AOh14Gih6IcON3wMQpvveeS9_REpH6y1XnnZEhx-zhFX=s64",
      "userId": "10381972055342951581"
     },
     "user_tz": -360
    },
    "id": "bGV6GftKLmB9",
    "outputId": "8de6b055-6de8-4388-9cd2-42afdd93ee04"
   },
   "outputs": [],
   "source": [
    "def nvidia_model():\n",
    "  model = Sequential()\n",
    "  model.add(Conv2D(24, (5, 5), strides=(2, 2), input_shape=(66, 200, 3), activation='elu'))\n",
    "  model.add(Conv2D(36, (5, 5), strides=(2, 2), activation='elu'))\n",
    "  model.add(Conv2D(48, (5, 5), strides=(2, 2), activation='elu'))\n",
    "  model.add(Conv2D(64, (5, 5), activation='elu'))\n",
    "  # model.add(Conv2D(64, (3,3), activation='elu'))\n",
    "#   model.add(Dropout(0.5))\n",
    "\n",
    "\n",
    "  model.add(Flatten())\n",
    "\n",
    "  model.add(Dense(100, activation = 'elu'))\n",
    "#   model.add(Dropout(0.5))\n",
    "\n",
    "  model.add(Dense(50, activation = 'elu'))\n",
    "#   model.add(Dropout(0.5))\n",
    "\n",
    "  model.add(Dense(10, activation = 'elu'))\n",
    "#   model.add(Dropout(0.5))\n",
    "\n",
    "  model.add(Dense(1))\n",
    "\n",
    "  optimizer = tf.keras.optimizers.Adam(learning_rate=1e-3)\n",
    "  model.compile(loss='mse', optimizer=optimizer)\n",
    "  return model\n",
    "\n",
    "model = nvidia_model()\n",
    "print(model.summary())"
   ]
  },
  {
   "cell_type": "code",
   "execution_count": null,
   "metadata": {
    "colab": {
     "base_uri": "https://localhost:8080/"
    },
    "executionInfo": {
     "elapsed": 2012966,
     "status": "ok",
     "timestamp": 1645987179750,
     "user": {
      "displayName": "Boktiar Ahmed Bappy",
      "photoUrl": "https://lh3.googleusercontent.com/a-/AOh14Gih6IcON3wMQpvveeS9_REpH6y1XnnZEhx-zhFX=s64",
      "userId": "10381972055342951581"
     },
     "user_tz": -360
    },
    "id": "zqaqNTqvN4J5",
    "outputId": "70777297-3393-46be-b342-39f02c94e05d"
   },
   "outputs": [],
   "source": [
    "history = model.fit_generator(batch_generator(X_train, y_train, 100, 1),\n",
    "                                  steps_per_epoch=300,\n",
    "                                  epochs=10,\n",
    "                                  validation_data=batch_generator(X_valid, y_valid, 100, 0),\n",
    "                                  validation_steps=200,\n",
    "                                  verbose=1,\n",
    "                                  shuffle = 1)"
   ]
  },
  {
   "cell_type": "code",
   "execution_count": null,
   "metadata": {
    "colab": {
     "base_uri": "https://localhost:8080/",
     "height": 312
    },
    "executionInfo": {
     "elapsed": 605,
     "status": "ok",
     "timestamp": 1645987239906,
     "user": {
      "displayName": "Boktiar Ahmed Bappy",
      "photoUrl": "https://lh3.googleusercontent.com/a-/AOh14Gih6IcON3wMQpvveeS9_REpH6y1XnnZEhx-zhFX=s64",
      "userId": "10381972055342951581"
     },
     "user_tz": -360
    },
    "id": "pH0EpGGhXHGt",
    "outputId": "4395ee9c-cdd5-49bb-fd3c-c7fc302d03cc"
   },
   "outputs": [],
   "source": [
    "plt.plot(history.history['loss'])\n",
    "plt.plot(history.history['val_loss'])\n",
    "plt.legend(['training', 'validation'])\n",
    "plt.title('Loss')\n",
    "plt.xlabel('Epoch')\n"
   ]
  },
  {
   "cell_type": "code",
   "execution_count": null,
   "metadata": {
    "colab": {
     "base_uri": "https://localhost:8080/",
     "height": 17
    },
    "executionInfo": {
     "elapsed": 456,
     "status": "ok",
     "timestamp": 1645987264473,
     "user": {
      "displayName": "Boktiar Ahmed Bappy",
      "photoUrl": "https://lh3.googleusercontent.com/a-/AOh14Gih6IcON3wMQpvveeS9_REpH6y1XnnZEhx-zhFX=s64",
      "userId": "10381972055342951581"
     },
     "user_tz": -360
    },
    "id": "O4rKsXGafBE1",
    "outputId": "1462f55a-43f4-4e22-ebe3-e942fc4beac2"
   },
   "outputs": [],
   "source": [
    "model.save('model.h5')\n",
    "from google.colab import files\n",
    "files.download('model.h5')"
   ]
  },
  {
   "cell_type": "code",
   "execution_count": null,
   "metadata": {
    "id": "MI4rKOsUfHHh"
   },
   "outputs": [],
   "source": []
  }
 ],
 "metadata": {
  "accelerator": "GPU",
  "colab": {
   "authorship_tag": "ABX9TyP4ADk4+ptiLj1pktxi7aV5",
   "collapsed_sections": [],
   "name": "Behavioral Cloning.ipynb",
   "provenance": []
  },
  "kernelspec": {
   "display_name": "Python 3",
   "name": "python3"
  },
  "language_info": {
   "name": "python"
  }
 },
 "nbformat": 4,
 "nbformat_minor": 0
}

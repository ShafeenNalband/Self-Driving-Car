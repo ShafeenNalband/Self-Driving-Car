{
 "cells": [
  {
   "cell_type": "code",
   "execution_count": null,
   "metadata": {
    "executionInfo": {
     "elapsed": 3443,
     "status": "ok",
     "timestamp": 1645972366792,
     "user": {
      "displayName": "Boktiar Ahmed Bappy",
      "photoUrl": "https://lh3.googleusercontent.com/a-/AOh14Gih6IcON3wMQpvveeS9_REpH6y1XnnZEhx-zhFX=s64",
      "userId": "10381972055342951581"
     },
     "user_tz": -360
    },
    "id": "_a-Tt_ZT3TTG"
   },
   "outputs": [],
   "source": [
    "import numpy as np\n",
    "import matplotlib.pyplot as plt\n",
    "import tensorflow as tf\n",
    "from tensorflow import keras\n",
    "from keras.models import Sequential\n",
    "from keras.layers import Dense\n",
    "from keras.layers import Flatten, Dropout\n",
    "from keras.utils.np_utils import to_categorical\n",
    "from keras.layers.convolutional import Conv2D, MaxPooling2D\n",
    "import random\n",
    "import pickle\n",
    "import pandas as pd\n",
    "import cv2\n",
    "from keras.callbacks import LearningRateScheduler, ModelCheckpoint\n",
    "from keras.preprocessing.image import ImageDataGenerator\n",
    "np.random.seed(0)"
   ]
  },
  {
   "cell_type": "code",
   "execution_count": null,
   "metadata": {
    "colab": {
     "base_uri": "https://localhost:8080/"
    },
    "executionInfo": {
     "elapsed": 12851,
     "status": "ok",
     "timestamp": 1645972379625,
     "user": {
      "displayName": "Boktiar Ahmed Bappy",
      "photoUrl": "https://lh3.googleusercontent.com/a-/AOh14Gih6IcON3wMQpvveeS9_REpH6y1XnnZEhx-zhFX=s64",
      "userId": "10381972055342951581"
     },
     "user_tz": -360
    },
    "id": "ZSXarG0k3TTP",
    "outputId": "e5265749-f8cc-4e77-cbe4-1f010b76b64c"
   },
   "outputs": [],
   "source": [
    "!git clone https://bitbucket.org/jadslim/german-traffic-signs"
   ]
  },
  {
   "cell_type": "code",
   "execution_count": null,
   "metadata": {
    "executionInfo": {
     "elapsed": 29,
     "status": "ok",
     "timestamp": 1645972379627,
     "user": {
      "displayName": "Boktiar Ahmed Bappy",
      "photoUrl": "https://lh3.googleusercontent.com/a-/AOh14Gih6IcON3wMQpvveeS9_REpH6y1XnnZEhx-zhFX=s64",
      "userId": "10381972055342951581"
     },
     "user_tz": -360
    },
    "id": "fH620Tnj72N9"
   },
   "outputs": [],
   "source": [
    "# TODO: Implement load the data here.\n",
    "with open('german-traffic-signs/train.p', 'rb') as f:\n",
    "    train_data = pickle.load(f)\n",
    "with open('german-traffic-signs/valid.p', 'rb') as f:\n",
    "    val_data = pickle.load(f)\n",
    "# TODO: Load test data\n",
    "with open('german-traffic-signs/test.p', 'rb') as f:\n",
    "    test_data = pickle.load(f)"
   ]
  },
  {
   "cell_type": "code",
   "execution_count": null,
   "metadata": {
    "colab": {
     "base_uri": "https://localhost:8080/"
    },
    "executionInfo": {
     "elapsed": 29,
     "status": "ok",
     "timestamp": 1645972379629,
     "user": {
      "displayName": "Boktiar Ahmed Bappy",
      "photoUrl": "https://lh3.googleusercontent.com/a-/AOh14Gih6IcON3wMQpvveeS9_REpH6y1XnnZEhx-zhFX=s64",
      "userId": "10381972055342951581"
     },
     "user_tz": -360
    },
    "id": "nM4AJD-m8JK2",
    "outputId": "26e74ef8-f458-4ce7-a985-cb03f314ec7a"
   },
   "outputs": [],
   "source": [
    "# Split out features and labels\n",
    "X_train, y_train = train_data['features'], train_data['labels']\n",
    "X_val, y_val = val_data['features'], val_data['labels']\n",
    "X_test, y_test = test_data['features'], test_data['labels']\n",
    "\n",
    "#already 4 dimensional\n",
    "print(X_train.shape)\n",
    "print(X_test.shape)\n",
    "print(X_val.shape)"
   ]
  },
  {
   "cell_type": "code",
   "execution_count": null,
   "metadata": {
    "executionInfo": {
     "elapsed": 28,
     "status": "ok",
     "timestamp": 1645972379630,
     "user": {
      "displayName": "Boktiar Ahmed Bappy",
      "photoUrl": "https://lh3.googleusercontent.com/a-/AOh14Gih6IcON3wMQpvveeS9_REpH6y1XnnZEhx-zhFX=s64",
      "userId": "10381972055342951581"
     },
     "user_tz": -360
    },
    "id": "nr3kTVTQ8TJH"
   },
   "outputs": [],
   "source": [
    "# STOP: Do not change the tests below. Your implementation should pass these tests.\n",
    "assert(X_train.shape[0] == y_train.shape[0]), \"The number of images is not equal to the number of labels.\"\n",
    "assert(X_train.shape[1:] == (32,32,3)), \"The dimensions of the images are not 32 x 32 x 3.\"\n",
    "assert(X_val.shape[0] == y_val.shape[0]), \"The number of images is not equal to the number of labels.\"\n",
    "assert(X_val.shape[1:] == (32,32,3)), \"The dimensions of the images are not 32 x 32 x 3.\"\n",
    "assert(X_test.shape[0] == y_test.shape[0]), \"The number of images is not equal to the number of labels.\"\n",
    "assert(X_test.shape[1:] == (32,32,3)), \"The dimensions of the images are not 32 x 32 x 3.\""
   ]
  },
  {
   "cell_type": "code",
   "execution_count": null,
   "metadata": {
    "executionInfo": {
     "elapsed": 28,
     "status": "ok",
     "timestamp": 1645972379631,
     "user": {
      "displayName": "Boktiar Ahmed Bappy",
      "photoUrl": "https://lh3.googleusercontent.com/a-/AOh14Gih6IcON3wMQpvveeS9_REpH6y1XnnZEhx-zhFX=s64",
      "userId": "10381972055342951581"
     },
     "user_tz": -360
    },
    "id": "kZg6PJO28cUo"
   },
   "outputs": [],
   "source": [
    "data = pd.read_csv('german-traffic-signs/signnames.csv')"
   ]
  },
  {
   "cell_type": "code",
   "execution_count": null,
   "metadata": {
    "colab": {
     "base_uri": "https://localhost:8080/",
     "height": 206
    },
    "executionInfo": {
     "elapsed": 27,
     "status": "ok",
     "timestamp": 1645972379633,
     "user": {
      "displayName": "Boktiar Ahmed Bappy",
      "photoUrl": "https://lh3.googleusercontent.com/a-/AOh14Gih6IcON3wMQpvveeS9_REpH6y1XnnZEhx-zhFX=s64",
      "userId": "10381972055342951581"
     },
     "user_tz": -360
    },
    "id": "VxL3yH5K8qQW",
    "outputId": "a2af25f9-8e98-4dd3-a363-159e410a3d74"
   },
   "outputs": [],
   "source": [
    "data.head()"
   ]
  },
  {
   "cell_type": "code",
   "execution_count": null,
   "metadata": {
    "colab": {
     "base_uri": "https://localhost:8080/"
    },
    "executionInfo": {
     "elapsed": 25,
     "status": "ok",
     "timestamp": 1645972379634,
     "user": {
      "displayName": "Boktiar Ahmed Bappy",
      "photoUrl": "https://lh3.googleusercontent.com/a-/AOh14Gih6IcON3wMQpvveeS9_REpH6y1XnnZEhx-zhFX=s64",
      "userId": "10381972055342951581"
     },
     "user_tz": -360
    },
    "id": "Wgbyugm_8fr5",
    "outputId": "89c2b44a-cd3c-463f-bc27-564dc28a9f7a"
   },
   "outputs": [],
   "source": [
    "data.shape"
   ]
  },
  {
   "cell_type": "code",
   "execution_count": null,
   "metadata": {
    "colab": {
     "base_uri": "https://localhost:8080/",
     "height": 1000
    },
    "executionInfo": {
     "elapsed": 13686,
     "status": "ok",
     "timestamp": 1645972393299,
     "user": {
      "displayName": "Boktiar Ahmed Bappy",
      "photoUrl": "https://lh3.googleusercontent.com/a-/AOh14Gih6IcON3wMQpvveeS9_REpH6y1XnnZEhx-zhFX=s64",
      "userId": "10381972055342951581"
     },
     "user_tz": -360
    },
    "id": "O0udtgrZ8gtF",
    "outputId": "77361c01-7f2d-4e41-d1cb-d2b23f34d7bb"
   },
   "outputs": [],
   "source": [
    "num_of_samples=[]\n",
    "\n",
    "cols = 5\n",
    "num_classes = 43\n",
    "\n",
    "fig, axs = plt.subplots(nrows=num_classes, ncols=cols, figsize=(5,50))\n",
    "fig.tight_layout()\n",
    "\n",
    "for i in range(cols):\n",
    "    for j, row in data.iterrows():\n",
    "      x_selected = X_train[y_train == j]\n",
    "      axs[j][i].imshow(x_selected[random.randint(0,(len(x_selected) - 1)), :, :], cmap=plt.get_cmap('gray'))\n",
    "      axs[j][i].axis(\"off\")\n",
    "      if i == 2:\n",
    "        axs[j][i].set_title(str(j) + \" - \" + row[\"SignName\"])\n",
    "        num_of_samples.append(len(x_selected))\n",
    "\n",
    "print(num_of_samples)\n",
    "plt.figure(figsize=(12, 4))\n",
    "plt.bar(range(0, num_classes), num_of_samples)\n",
    "plt.title(\"Distribution of the train dataset\")\n",
    "plt.xlabel(\"Class number\")\n",
    "plt.ylabel(\"Number of images\")\n",
    "plt.show()"
   ]
  },
  {
   "cell_type": "code",
   "execution_count": null,
   "metadata": {
    "colab": {
     "base_uri": "https://localhost:8080/",
     "height": 283
    },
    "executionInfo": {
     "elapsed": 872,
     "status": "ok",
     "timestamp": 1645972394157,
     "user": {
      "displayName": "Boktiar Ahmed Bappy",
      "photoUrl": "https://lh3.googleusercontent.com/a-/AOh14Gih6IcON3wMQpvveeS9_REpH6y1XnnZEhx-zhFX=s64",
      "userId": "10381972055342951581"
     },
     "user_tz": -360
    },
    "id": "W0rVXNx7-ND4",
    "outputId": "8653b7cb-7fac-4ae3-f81c-2e20b18185df"
   },
   "outputs": [],
   "source": [
    "# Preprocessing\n",
    "import cv2\n",
    "\n",
    "plt.imshow(X_train[1000])\n",
    "plt.axis(\"off\")\n",
    "print(X_train[1000].shape)\n",
    "print(y_train[1000])"
   ]
  },
  {
   "cell_type": "code",
   "execution_count": null,
   "metadata": {
    "executionInfo": {
     "elapsed": 62,
     "status": "ok",
     "timestamp": 1645972394159,
     "user": {
      "displayName": "Boktiar Ahmed Bappy",
      "photoUrl": "https://lh3.googleusercontent.com/a-/AOh14Gih6IcON3wMQpvveeS9_REpH6y1XnnZEhx-zhFX=s64",
      "userId": "10381972055342951581"
     },
     "user_tz": -360
    },
    "id": "QM-u0x3Y__Mm"
   },
   "outputs": [],
   "source": [
    "def grayscale(img):\n",
    "    img = cv2.cvtColor(img, cv2.COLOR_BGR2GRAY)\n",
    "    return img\n",
    "\n",
    "def equalize(img):\n",
    "    img = cv2.equalizeHist(img)\n",
    "    return img\n"
   ]
  },
  {
   "cell_type": "code",
   "execution_count": null,
   "metadata": {
    "colab": {
     "base_uri": "https://localhost:8080/",
     "height": 265
    },
    "executionInfo": {
     "elapsed": 64,
     "status": "ok",
     "timestamp": 1645972394161,
     "user": {
      "displayName": "Boktiar Ahmed Bappy",
      "photoUrl": "https://lh3.googleusercontent.com/a-/AOh14Gih6IcON3wMQpvveeS9_REpH6y1XnnZEhx-zhFX=s64",
      "userId": "10381972055342951581"
     },
     "user_tz": -360
    },
    "id": "se_Woi7aAWAu",
    "outputId": "18e52f64-a0fe-42b1-89e3-d50cf497484a"
   },
   "outputs": [],
   "source": [
    "img = grayscale(X_train[1000])\n",
    "plt.imshow(img)\n",
    "plt.axis(\"off\")\n",
    "print(img.shape)"
   ]
  },
  {
   "cell_type": "code",
   "execution_count": null,
   "metadata": {
    "colab": {
     "base_uri": "https://localhost:8080/",
     "height": 265
    },
    "executionInfo": {
     "elapsed": 60,
     "status": "ok",
     "timestamp": 1645972394162,
     "user": {
      "displayName": "Boktiar Ahmed Bappy",
      "photoUrl": "https://lh3.googleusercontent.com/a-/AOh14Gih6IcON3wMQpvveeS9_REpH6y1XnnZEhx-zhFX=s64",
      "userId": "10381972055342951581"
     },
     "user_tz": -360
    },
    "id": "LDoznFO3AdAM",
    "outputId": "cb5bb617-6b10-42a4-c130-44139cef372d"
   },
   "outputs": [],
   "source": [
    "img = equalize(img)\n",
    "plt.imshow(img)\n",
    "plt.axis(\"off\")\n",
    "print(img.shape)"
   ]
  },
  {
   "cell_type": "code",
   "execution_count": null,
   "metadata": {
    "executionInfo": {
     "elapsed": 61,
     "status": "ok",
     "timestamp": 1645972394169,
     "user": {
      "displayName": "Boktiar Ahmed Bappy",
      "photoUrl": "https://lh3.googleusercontent.com/a-/AOh14Gih6IcON3wMQpvveeS9_REpH6y1XnnZEhx-zhFX=s64",
      "userId": "10381972055342951581"
     },
     "user_tz": -360
    },
    "id": "52xcJxsRArDA"
   },
   "outputs": [],
   "source": [
    "def preprocess(img):\n",
    "    img = grayscale(img)\n",
    "    img = equalize(img)\n",
    "    img = img/255\n",
    "    return img"
   ]
  },
  {
   "cell_type": "code",
   "execution_count": null,
   "metadata": {
    "executionInfo": {
     "elapsed": 65,
     "status": "ok",
     "timestamp": 1645972394173,
     "user": {
      "displayName": "Boktiar Ahmed Bappy",
      "photoUrl": "https://lh3.googleusercontent.com/a-/AOh14Gih6IcON3wMQpvveeS9_REpH6y1XnnZEhx-zhFX=s64",
      "userId": "10381972055342951581"
     },
     "user_tz": -360
    },
    "id": "sn9OLBIFDKMl"
   },
   "outputs": [],
   "source": [
    "X_train = np.array(list(map(preprocess, X_train)))\n",
    "X_test = np.array(list(map(preprocess, X_test)))\n",
    "X_val = np.array(list(map(preprocess, X_val)))"
   ]
  },
  {
   "cell_type": "code",
   "execution_count": null,
   "metadata": {
    "colab": {
     "base_uri": "https://localhost:8080/",
     "height": 265
    },
    "executionInfo": {
     "elapsed": 66,
     "status": "ok",
     "timestamp": 1645972394175,
     "user": {
      "displayName": "Boktiar Ahmed Bappy",
      "photoUrl": "https://lh3.googleusercontent.com/a-/AOh14Gih6IcON3wMQpvveeS9_REpH6y1XnnZEhx-zhFX=s64",
      "userId": "10381972055342951581"
     },
     "user_tz": -360
    },
    "id": "ef4aIMgKD6eQ",
    "outputId": "3f8239d0-c2d6-4dd6-eba6-8d2da7a0b3fc"
   },
   "outputs": [],
   "source": [
    "plt.imshow(X_train[random.randint(0, len(X_train) - 1)])\n",
    "plt.axis('off')\n",
    "print(X_train.shape)"
   ]
  },
  {
   "cell_type": "code",
   "execution_count": null,
   "metadata": {
    "colab": {
     "base_uri": "https://localhost:8080/"
    },
    "executionInfo": {
     "elapsed": 64,
     "status": "ok",
     "timestamp": 1645972394176,
     "user": {
      "displayName": "Boktiar Ahmed Bappy",
      "photoUrl": "https://lh3.googleusercontent.com/a-/AOh14Gih6IcON3wMQpvveeS9_REpH6y1XnnZEhx-zhFX=s64",
      "userId": "10381972055342951581"
     },
     "user_tz": -360
    },
    "id": "DZ1AnLQxD8gv",
    "outputId": "eafd5a4b-4be1-4b80-dd88-7ace1bf4c18e"
   },
   "outputs": [],
   "source": [
    "print(X_train.shape)\n",
    "print(X_test.shape)\n",
    "print(X_val.shape)"
   ]
  },
  {
   "cell_type": "code",
   "execution_count": null,
   "metadata": {
    "executionInfo": {
     "elapsed": 63,
     "status": "ok",
     "timestamp": 1645972394178,
     "user": {
      "displayName": "Boktiar Ahmed Bappy",
      "photoUrl": "https://lh3.googleusercontent.com/a-/AOh14Gih6IcON3wMQpvveeS9_REpH6y1XnnZEhx-zhFX=s64",
      "userId": "10381972055342951581"
     },
     "user_tz": -360
    },
    "id": "E9u5Pla3EcN6"
   },
   "outputs": [],
   "source": [
    "X_train = X_train.reshape(34799, 32, 32, 1)\n",
    "X_test = X_test.reshape(12630, 32, 32, 1)\n",
    "X_val = X_val.reshape(4410, 32, 32, 1)"
   ]
  },
  {
   "cell_type": "code",
   "execution_count": null,
   "metadata": {
    "colab": {
     "base_uri": "https://localhost:8080/"
    },
    "executionInfo": {
     "elapsed": 65,
     "status": "ok",
     "timestamp": 1645972394180,
     "user": {
      "displayName": "Boktiar Ahmed Bappy",
      "photoUrl": "https://lh3.googleusercontent.com/a-/AOh14Gih6IcON3wMQpvveeS9_REpH6y1XnnZEhx-zhFX=s64",
      "userId": "10381972055342951581"
     },
     "user_tz": -360
    },
    "id": "1FcRfjwdElof",
    "outputId": "159152b6-0486-4f6e-e8cd-5a6267983fe2"
   },
   "outputs": [],
   "source": [
    "print(X_train.shape)\n",
    "print(X_test.shape)\n",
    "print(X_val.shape)"
   ]
  },
  {
   "cell_type": "code",
   "execution_count": null,
   "metadata": {
    "colab": {
     "base_uri": "https://localhost:8080/",
     "height": 67
    },
    "executionInfo": {
     "elapsed": 896,
     "status": "ok",
     "timestamp": 1645972395015,
     "user": {
      "displayName": "Boktiar Ahmed Bappy",
      "photoUrl": "https://lh3.googleusercontent.com/a-/AOh14Gih6IcON3wMQpvveeS9_REpH6y1XnnZEhx-zhFX=s64",
      "userId": "10381972055342951581"
     },
     "user_tz": -360
    },
    "id": "oJUEFi7-TX0W",
    "outputId": "14df62fe-393c-4861-fb99-9a9209d7c6e8"
   },
   "outputs": [],
   "source": [
    "#applying augmentation\n",
    "datagen = ImageDataGenerator(width_shift_range=0.1,\n",
    "                            height_shift_range=0.1,\n",
    "                            zoom_range=0.2,\n",
    "                            shear_range=0.1,\n",
    "                            rotation_range=10.)\n",
    "\n",
    "datagen.fit(X_train)\n",
    "# for X_batch, y_batch in\n",
    "\n",
    "batches = datagen.flow(X_train, y_train, batch_size = 15)\n",
    "X_batch, y_batch = next(batches)\n",
    "\n",
    "fig, axs = plt.subplots(1, 15, figsize=(20, 5))\n",
    "fig.tight_layout()\n",
    "\n",
    "for i in range(15):\n",
    "    axs[i].imshow(X_batch[i].reshape(32, 32))\n",
    "    axs[i].axis(\"off\")"
   ]
  },
  {
   "cell_type": "code",
   "execution_count": null,
   "metadata": {
    "executionInfo": {
     "elapsed": 27,
     "status": "ok",
     "timestamp": 1645972395016,
     "user": {
      "displayName": "Boktiar Ahmed Bappy",
      "photoUrl": "https://lh3.googleusercontent.com/a-/AOh14Gih6IcON3wMQpvveeS9_REpH6y1XnnZEhx-zhFX=s64",
      "userId": "10381972055342951581"
     },
     "user_tz": -360
    },
    "id": "NSjnAdFZEpGo"
   },
   "outputs": [],
   "source": [
    "#onehot to label\n",
    "y_train = to_categorical(y_train, 43)\n",
    "y_test = to_categorical(y_test, 43)\n",
    "y_val = to_categorical(y_val, 43)"
   ]
  },
  {
   "cell_type": "code",
   "execution_count": null,
   "metadata": {
    "colab": {
     "base_uri": "https://localhost:8080/"
    },
    "executionInfo": {
     "elapsed": 26,
     "status": "ok",
     "timestamp": 1645972395017,
     "user": {
      "displayName": "Boktiar Ahmed Bappy",
      "photoUrl": "https://lh3.googleusercontent.com/a-/AOh14Gih6IcON3wMQpvveeS9_REpH6y1XnnZEhx-zhFX=s64",
      "userId": "10381972055342951581"
     },
     "user_tz": -360
    },
    "id": "H_IMciyBHVgk",
    "outputId": "bbbb280a-3d31-43db-8983-2f5a40bf766a"
   },
   "outputs": [],
   "source": [
    "print(y_train.shape)\n",
    "print(y_test.shape)\n",
    "print(y_val.shape)"
   ]
  },
  {
   "cell_type": "code",
   "execution_count": null,
   "metadata": {
    "colab": {
     "base_uri": "https://localhost:8080/"
    },
    "executionInfo": {
     "elapsed": 4680,
     "status": "ok",
     "timestamp": 1645972399680,
     "user": {
      "displayName": "Boktiar Ahmed Bappy",
      "photoUrl": "https://lh3.googleusercontent.com/a-/AOh14Gih6IcON3wMQpvveeS9_REpH6y1XnnZEhx-zhFX=s64",
      "userId": "10381972055342951581"
     },
     "user_tz": -360
    },
    "id": "PrODbW_AIep5",
    "outputId": "20778872-8358-422a-ce14-f4e2cb8dcd00"
   },
   "outputs": [],
   "source": [
    "# create a model refering lenet\n",
    "\n",
    "def modified_model():\n",
    "  model = Sequential()\n",
    "  model.add(Conv2D(60, (5, 5), input_shape=(32, 32, 1), activation='relu'))\n",
    "  model.add(Conv2D(60, (5, 5), activation='relu'))\n",
    "  model.add(MaxPooling2D(pool_size=(2, 2)))\n",
    "\n",
    "  model.add(Conv2D(30, (3, 3), activation='relu'))\n",
    "  model.add(Conv2D(30, (3, 3), activation='relu'))\n",
    "  model.add(MaxPooling2D(pool_size=(2, 2)))\n",
    "\n",
    "  model.add(Flatten())\n",
    "  model.add(Dense(500, activation='relu'))\n",
    "  model.add(Dropout(0.5))\n",
    "  model.add(Dense(43, activation='softmax'))\n",
    "\n",
    "  model.compile(tf.keras.optimizers.Adam(learning_rate = 0.001), loss='categorical_crossentropy', metrics=['accuracy'])\n",
    "  return model\n",
    "  \n",
    "model = modified_model()\n",
    "print(model.summary())"
   ]
  },
  {
   "cell_type": "code",
   "execution_count": null,
   "metadata": {
    "colab": {
     "base_uri": "https://localhost:8080/"
    },
    "executionInfo": {
     "elapsed": 177446,
     "status": "ok",
     "timestamp": 1645972577096,
     "user": {
      "displayName": "Boktiar Ahmed Bappy",
      "photoUrl": "https://lh3.googleusercontent.com/a-/AOh14Gih6IcON3wMQpvveeS9_REpH6y1XnnZEhx-zhFX=s64",
      "userId": "10381972055342951581"
     },
     "user_tz": -360
    },
    "id": "niWfz1dHIgrM",
    "outputId": "65fa943e-e09f-4b20-9056-6417766f844d"
   },
   "outputs": [],
   "source": [
    "history = model.fit_generator(datagen.flow(X_train, y_train, batch_size=50),\n",
    "                            steps_per_epoch=500,\n",
    "                            epochs=10,\n",
    "                            validation_data=(X_val, y_val), shuffle = 1)"
   ]
  },
  {
   "cell_type": "code",
   "execution_count": null,
   "metadata": {
    "colab": {
     "base_uri": "https://localhost:8080/",
     "height": 312
    },
    "executionInfo": {
     "elapsed": 28,
     "status": "ok",
     "timestamp": 1645972577101,
     "user": {
      "displayName": "Boktiar Ahmed Bappy",
      "photoUrl": "https://lh3.googleusercontent.com/a-/AOh14Gih6IcON3wMQpvveeS9_REpH6y1XnnZEhx-zhFX=s64",
      "userId": "10381972055342951581"
     },
     "user_tz": -360
    },
    "id": "WKYEVG2lN9G5",
    "outputId": "9f7ef2da-3d67-44d7-dadb-ae0c519d47b9"
   },
   "outputs": [],
   "source": [
    "plt.plot(history.history['loss'])\n",
    "plt.plot(history.history['val_loss'])\n",
    "plt.title('Loss')\n",
    "plt.xlabel('epoch')"
   ]
  },
  {
   "cell_type": "code",
   "execution_count": null,
   "metadata": {
    "colab": {
     "base_uri": "https://localhost:8080/",
     "height": 312
    },
    "executionInfo": {
     "elapsed": 1265,
     "status": "ok",
     "timestamp": 1645972578351,
     "user": {
      "displayName": "Boktiar Ahmed Bappy",
      "photoUrl": "https://lh3.googleusercontent.com/a-/AOh14Gih6IcON3wMQpvveeS9_REpH6y1XnnZEhx-zhFX=s64",
      "userId": "10381972055342951581"
     },
     "user_tz": -360
    },
    "id": "YE5LiOHbOu6o",
    "outputId": "7dcb5491-b44d-464a-e36b-acadaf280623"
   },
   "outputs": [],
   "source": [
    "plt.plot(history.history['accuracy'])\n",
    "plt.plot(history.history['val_accuracy'])\n",
    "plt.legend(['training','test'])\n",
    "plt.title('Accuracy')\n",
    "plt.xlabel('epoch')"
   ]
  },
  {
   "cell_type": "code",
   "execution_count": null,
   "metadata": {
    "colab": {
     "base_uri": "https://localhost:8080/"
    },
    "executionInfo": {
     "elapsed": 1877,
     "status": "ok",
     "timestamp": 1645972580198,
     "user": {
      "displayName": "Boktiar Ahmed Bappy",
      "photoUrl": "https://lh3.googleusercontent.com/a-/AOh14Gih6IcON3wMQpvveeS9_REpH6y1XnnZEhx-zhFX=s64",
      "userId": "10381972055342951581"
     },
     "user_tz": -360
    },
    "id": "UyiSvBVjPzO_",
    "outputId": "a0fe86f0-3a3d-49a2-f990-4f4b405e7963"
   },
   "outputs": [],
   "source": [
    "# TODO: Evaluate model on test data\n",
    "score = model.evaluate(X_test, y_test, verbose=0)\n",
    "print('Test score:', score[0])\n",
    "print('Test accuracy:', score[1])"
   ]
  },
  {
   "cell_type": "code",
   "execution_count": null,
   "metadata": {
    "colab": {
     "base_uri": "https://localhost:8080/",
     "height": 286
    },
    "executionInfo": {
     "elapsed": 1033,
     "status": "ok",
     "timestamp": 1645972581223,
     "user": {
      "displayName": "Boktiar Ahmed Bappy",
      "photoUrl": "https://lh3.googleusercontent.com/a-/AOh14Gih6IcON3wMQpvveeS9_REpH6y1XnnZEhx-zhFX=s64",
      "userId": "10381972055342951581"
     },
     "user_tz": -360
    },
    "id": "BW05vueoXTe-",
    "outputId": "1d4a43ef-e2b7-47fe-d9a3-fea1f239c090"
   },
   "outputs": [],
   "source": [
    "#predict internet number\n",
    "import requests\n",
    "from PIL import Image\n",
    "url = 'https://c8.alamy.com/comp/A0RX23/cars-and-automobiles-must-turn-left-ahead-sign-A0RX23.jpg'\n",
    "r = requests.get(url, stream=True)\n",
    "img = Image.open(r.raw)\n",
    "plt.imshow(img, cmap=plt.get_cmap('gray'))"
   ]
  },
  {
   "cell_type": "code",
   "execution_count": null,
   "metadata": {
    "colab": {
     "base_uri": "https://localhost:8080/",
     "height": 283
    },
    "executionInfo": {
     "elapsed": 712,
     "status": "ok",
     "timestamp": 1645972581905,
     "user": {
      "displayName": "Boktiar Ahmed Bappy",
      "photoUrl": "https://lh3.googleusercontent.com/a-/AOh14Gih6IcON3wMQpvveeS9_REpH6y1XnnZEhx-zhFX=s64",
      "userId": "10381972055342951581"
     },
     "user_tz": -360
    },
    "id": "M96DE5ShXXDs",
    "outputId": "ef5f0446-373c-48d3-ac75-5c72032fe8f9"
   },
   "outputs": [],
   "source": [
    "img = np.asarray(img)\n",
    "img = cv2.resize(img, (32, 32))\n",
    "img = preprocess(img)\n",
    "plt.imshow(img, cmap = plt.get_cmap('gray'))\n",
    "print(img.shape)\n",
    "img = img.reshape(1, 32, 32, 1)"
   ]
  },
  {
   "cell_type": "code",
   "execution_count": null,
   "metadata": {
    "colab": {
     "base_uri": "https://localhost:8080/"
    },
    "executionInfo": {
     "elapsed": 368,
     "status": "ok",
     "timestamp": 1645973077928,
     "user": {
      "displayName": "Boktiar Ahmed Bappy",
      "photoUrl": "https://lh3.googleusercontent.com/a-/AOh14Gih6IcON3wMQpvveeS9_REpH6y1XnnZEhx-zhFX=s64",
      "userId": "10381972055342951581"
     },
     "user_tz": -360
    },
    "id": "QKrc3lQQnbg_",
    "outputId": "7720a6fa-575c-45b0-c20b-548631a6779d"
   },
   "outputs": [],
   "source": [
    "predict_x=model.predict(img) \n",
    "classes_x=np.argmax(predict_x,axis=1)\n",
    "print(\"predicted sign: \"+ str(classes_x))"
   ]
  },
  {
   "cell_type": "code",
   "execution_count": null,
   "metadata": {
    "executionInfo": {
     "elapsed": 416,
     "status": "ok",
     "timestamp": 1645973084003,
     "user": {
      "displayName": "Boktiar Ahmed Bappy",
      "photoUrl": "https://lh3.googleusercontent.com/a-/AOh14Gih6IcON3wMQpvveeS9_REpH6y1XnnZEhx-zhFX=s64",
      "userId": "10381972055342951581"
     },
     "user_tz": -360
    },
    "id": "rVMSUfLHXeVp"
   },
   "outputs": [],
   "source": [
    "# print(\"predicted sign: \"+ str(model.predict_classes(img)))"
   ]
  },
  {
   "cell_type": "code",
   "execution_count": null,
   "metadata": {
    "id": "LdwwaWmBpBI_"
   },
   "outputs": [],
   "source": []
  }
 ],
 "metadata": {
  "accelerator": "GPU",
  "colab": {
   "collapsed_sections": [],
   "name": "Traffic Signs Classification.ipynb",
   "provenance": []
  },
  "kernelspec": {
   "display_name": "Python 3",
   "language": "python",
   "name": "python3"
  },
  "language_info": {
   "codemirror_mode": {
    "name": "ipython",
    "version": 3
   },
   "file_extension": ".py",
   "mimetype": "text/x-python",
   "name": "python",
   "nbconvert_exporter": "python",
   "pygments_lexer": "ipython3",
   "version": "3.6.4"
  }
 },
 "nbformat": 4,
 "nbformat_minor": 0
}
